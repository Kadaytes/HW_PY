{
  "nbformat": 4,
  "nbformat_minor": 0,
  "metadata": {
    "colab": {
      "provenance": [],
      "toc_visible": true,
      "authorship_tag": "ABX9TyPgYkLi+BS9v5gm2M06Sq5m",
      "include_colab_link": true
    },
    "kernelspec": {
      "name": "python3",
      "display_name": "Python 3"
    },
    "language_info": {
      "name": "python"
    }
  },
  "cells": [
    {
      "cell_type": "markdown",
      "metadata": {
        "id": "view-in-github",
        "colab_type": "text"
      },
      "source": [
        "<a href=\"https://colab.research.google.com/github/Kadaytes/HW_PY/blob/main/DZ_5_VNN.ipynb\" target=\"_parent\"><img src=\"https://colab.research.google.com/assets/colab-badge.svg\" alt=\"Open In Colab\"/></a>"
      ]
    },
    {
      "cell_type": "code",
      "source": [
        "import re"
      ],
      "metadata": {
        "id": "ufRO6EtuA-sm"
      },
      "execution_count": 32,
      "outputs": []
    },
    {
      "cell_type": "code",
      "execution_count": 33,
      "metadata": {
        "id": "CGfoYGWGAWkH"
      },
      "outputs": [],
      "source": [
        "with open('train_data.txt', 'r', encoding='utf-8') as f:\n",
        "  text = f.read()\n",
        "text = text.replace('\\ufeff', '') # убираем первый невидимый символ\n",
        "text = re.sub(r'[^А-я ]', '', text) # убираем все недопустимые символы"
      ]
    },
    {
      "cell_type": "code",
      "source": [
        "num_characters = 34 #33 буквы + пробел"
      ],
      "metadata": {
        "id": "LpnL8T_MBReA"
      },
      "execution_count": 35,
      "outputs": []
    },
    {
      "cell_type": "code",
      "source": [
        "import keras\n",
        "from keras.preprocessing.text import Tokenizer\n",
        "tokenizer = Tokenizer(num_words=num_characters, char_level=True)\n",
        "\n",
        "tokenizer.fit_on_texts(text)"
      ],
      "metadata": {
        "id": "uUO1JG0MBv58"
      },
      "execution_count": 36,
      "outputs": []
    },
    {
      "cell_type": "code",
      "source": [
        "print(tokenizer.word_index)"
      ],
      "metadata": {
        "colab": {
          "base_uri": "https://localhost:8080/"
        },
        "id": "AT6mGJAbCgVm",
        "outputId": "ff9c502a-4966-4b94-a07f-0d3fc0fc0263"
      },
      "execution_count": 37,
      "outputs": [
        {
          "output_type": "stream",
          "name": "stdout",
          "text": [
            "{' ': 1, 'о': 2, 'е': 3, 'и': 4, 'н': 5, 'с': 6, 'т': 7, 'а': 8, 'в': 9, 'л': 10, 'ы': 11, 'к': 12, 'д': 13, 'м': 14, 'р': 15, 'г': 16, 'п': 17, 'ь': 18, 'у': 19, 'з': 20, 'х': 21, 'б': 22, 'й': 23, 'ч': 24, 'ю': 25, 'я': 26, 'ф': 27, 'ц': 28, 'ж': 29, 'э': 30}\n"
          ]
        }
      ]
    },
    {
      "cell_type": "code",
      "source": [
        "inp_chars = 3\n",
        "data = tokenizer.texts_to_matrix(text)\n",
        "data"
      ],
      "metadata": {
        "colab": {
          "base_uri": "https://localhost:8080/"
        },
        "id": "syOnuxU9CxUN",
        "outputId": "1c6bb30a-7e4b-4b6f-f23b-9811366bf674"
      },
      "execution_count": 38,
      "outputs": [
        {
          "output_type": "execute_result",
          "data": {
            "text/plain": [
              "array([[0., 0., 0., ..., 0., 0., 0.],\n",
              "       [0., 0., 0., ..., 0., 0., 0.],\n",
              "       [0., 0., 0., ..., 0., 0., 0.],\n",
              "       ...,\n",
              "       [0., 0., 0., ..., 0., 0., 0.],\n",
              "       [0., 0., 1., ..., 0., 0., 0.],\n",
              "       [0., 0., 0., ..., 0., 0., 0.]])"
            ]
          },
          "metadata": {},
          "execution_count": 38
        }
      ]
    },
    {
      "cell_type": "code",
      "source": [
        "n = data.shape[0]-inp_chars\n",
        "n #размер обучающего множества"
      ],
      "metadata": {
        "colab": {
          "base_uri": "https://localhost:8080/"
        },
        "id": "-3niC2BhDo2J",
        "outputId": "3e4a3c11-c6e9-463e-dd16-b6ca9371cb7c"
      },
      "execution_count": 39,
      "outputs": [
        {
          "output_type": "execute_result",
          "data": {
            "text/plain": [
              "619"
            ]
          },
          "metadata": {},
          "execution_count": 39
        }
      ]
    },
    {
      "cell_type": "code",
      "source": [
        "import numpy as np\n",
        "X = np.array([data[i:i+inp_chars, :] for i in range(n)])\n",
        "Y = data[inp_chars:] #предсказание следующего символа\n"
      ],
      "metadata": {
        "id": "Os3P_t-MtoNP"
      },
      "execution_count": 40,
      "outputs": []
    },
    {
      "cell_type": "code",
      "source": [
        "from keras.layers import *\n",
        "from keras.models import Sequential\n",
        "model = Sequential()\n",
        "model.add(Input((inp_chars, num_characters)))\n",
        "model.add(SimpleRNN(500, activation='tanh'))\n",
        "model.add(Dense(num_characters, activation='softmax'))\n",
        "model.summary()\n",
        "model.compile(loss='categorical_crossentropy', metrics=['accuracy'], optimizer='adam')\n",
        "history = model.fit(X, Y, batch_size=32, epochs=100)\n"
      ],
      "metadata": {
        "colab": {
          "base_uri": "https://localhost:8080/"
        },
        "id": "zLvmbyCfC5qr",
        "outputId": "d45d355d-7149-45bc-ba31-7b720bf5be07"
      },
      "execution_count": 41,
      "outputs": [
        {
          "output_type": "stream",
          "name": "stdout",
          "text": [
            "Model: \"sequential_3\"\n",
            "_________________________________________________________________\n",
            " Layer (type)                Output Shape              Param #   \n",
            "=================================================================\n",
            " simple_rnn_3 (SimpleRNN)    (None, 500)               267500    \n",
            "                                                                 \n",
            " dense_3 (Dense)             (None, 34)                17034     \n",
            "                                                                 \n",
            "=================================================================\n",
            "Total params: 284534 (1.09 MB)\n",
            "Trainable params: 284534 (1.09 MB)\n",
            "Non-trainable params: 0 (0.00 Byte)\n",
            "_________________________________________________________________\n",
            "Epoch 1/100\n",
            "20/20 [==============================] - 1s 9ms/step - loss: 3.2598 - accuracy: 0.1179\n",
            "Epoch 2/100\n",
            "20/20 [==============================] - 0s 11ms/step - loss: 2.7188 - accuracy: 0.2310\n",
            "Epoch 3/100\n",
            "20/20 [==============================] - 0s 9ms/step - loss: 2.4759 - accuracy: 0.2892\n",
            "Epoch 4/100\n",
            "20/20 [==============================] - 0s 9ms/step - loss: 2.2958 - accuracy: 0.3344\n",
            "Epoch 5/100\n",
            "20/20 [==============================] - 0s 9ms/step - loss: 2.1848 - accuracy: 0.3344\n",
            "Epoch 6/100\n",
            "20/20 [==============================] - 0s 10ms/step - loss: 2.1114 - accuracy: 0.3409\n",
            "Epoch 7/100\n",
            "20/20 [==============================] - 0s 10ms/step - loss: 2.0214 - accuracy: 0.3635\n",
            "Epoch 8/100\n",
            "20/20 [==============================] - 0s 10ms/step - loss: 1.9682 - accuracy: 0.3748\n",
            "Epoch 9/100\n",
            "20/20 [==============================] - 0s 9ms/step - loss: 1.9164 - accuracy: 0.3974\n",
            "Epoch 10/100\n",
            "20/20 [==============================] - 0s 9ms/step - loss: 1.8909 - accuracy: 0.3974\n",
            "Epoch 11/100\n",
            "20/20 [==============================] - 0s 9ms/step - loss: 1.8401 - accuracy: 0.4023\n",
            "Epoch 12/100\n",
            "20/20 [==============================] - 0s 10ms/step - loss: 1.7887 - accuracy: 0.4410\n",
            "Epoch 13/100\n",
            "20/20 [==============================] - 0s 9ms/step - loss: 1.7593 - accuracy: 0.4313\n",
            "Epoch 14/100\n",
            "20/20 [==============================] - 0s 9ms/step - loss: 1.7334 - accuracy: 0.4410\n",
            "Epoch 15/100\n",
            "20/20 [==============================] - 0s 9ms/step - loss: 1.7140 - accuracy: 0.4556\n",
            "Epoch 16/100\n",
            "20/20 [==============================] - 0s 9ms/step - loss: 1.6767 - accuracy: 0.4588\n",
            "Epoch 17/100\n",
            "20/20 [==============================] - 0s 10ms/step - loss: 1.6620 - accuracy: 0.4556\n",
            "Epoch 18/100\n",
            "20/20 [==============================] - 0s 9ms/step - loss: 1.6444 - accuracy: 0.4588\n",
            "Epoch 19/100\n",
            "20/20 [==============================] - 0s 9ms/step - loss: 1.6468 - accuracy: 0.4685\n",
            "Epoch 20/100\n",
            "20/20 [==============================] - 0s 10ms/step - loss: 1.6082 - accuracy: 0.4863\n",
            "Epoch 21/100\n",
            "20/20 [==============================] - 0s 9ms/step - loss: 1.5715 - accuracy: 0.4879\n",
            "Epoch 22/100\n",
            "20/20 [==============================] - 0s 10ms/step - loss: 1.5528 - accuracy: 0.4863\n",
            "Epoch 23/100\n",
            "20/20 [==============================] - 0s 10ms/step - loss: 1.5608 - accuracy: 0.4685\n",
            "Epoch 24/100\n",
            "20/20 [==============================] - 0s 9ms/step - loss: 1.5238 - accuracy: 0.5105\n",
            "Epoch 25/100\n",
            "20/20 [==============================] - 0s 9ms/step - loss: 1.5114 - accuracy: 0.4960\n",
            "Epoch 26/100\n",
            "20/20 [==============================] - 0s 9ms/step - loss: 1.4973 - accuracy: 0.4960\n",
            "Epoch 27/100\n",
            "20/20 [==============================] - 0s 9ms/step - loss: 1.4973 - accuracy: 0.4992\n",
            "Epoch 28/100\n",
            "20/20 [==============================] - 0s 10ms/step - loss: 1.4842 - accuracy: 0.5008\n",
            "Epoch 29/100\n",
            "20/20 [==============================] - 0s 9ms/step - loss: 1.4678 - accuracy: 0.5218\n",
            "Epoch 30/100\n",
            "20/20 [==============================] - 0s 12ms/step - loss: 1.4534 - accuracy: 0.5170\n",
            "Epoch 31/100\n",
            "20/20 [==============================] - 0s 15ms/step - loss: 1.4436 - accuracy: 0.4927\n",
            "Epoch 32/100\n",
            "20/20 [==============================] - 0s 15ms/step - loss: 1.4298 - accuracy: 0.5202\n",
            "Epoch 33/100\n",
            "20/20 [==============================] - 0s 14ms/step - loss: 1.4094 - accuracy: 0.5283\n",
            "Epoch 34/100\n",
            "20/20 [==============================] - 0s 14ms/step - loss: 1.3631 - accuracy: 0.5541\n",
            "Epoch 35/100\n",
            "20/20 [==============================] - 0s 15ms/step - loss: 1.3569 - accuracy: 0.5460\n",
            "Epoch 36/100\n",
            "20/20 [==============================] - 0s 15ms/step - loss: 1.3490 - accuracy: 0.5460\n",
            "Epoch 37/100\n",
            "20/20 [==============================] - 0s 16ms/step - loss: 1.3668 - accuracy: 0.5412\n",
            "Epoch 38/100\n",
            "20/20 [==============================] - 0s 14ms/step - loss: 1.3518 - accuracy: 0.5396\n",
            "Epoch 39/100\n",
            "20/20 [==============================] - 0s 9ms/step - loss: 1.3189 - accuracy: 0.5735\n",
            "Epoch 40/100\n",
            "20/20 [==============================] - 0s 9ms/step - loss: 1.3494 - accuracy: 0.5412\n",
            "Epoch 41/100\n",
            "20/20 [==============================] - 0s 9ms/step - loss: 1.3208 - accuracy: 0.5606\n",
            "Epoch 42/100\n",
            "20/20 [==============================] - 0s 9ms/step - loss: 1.3092 - accuracy: 0.5719\n",
            "Epoch 43/100\n",
            "20/20 [==============================] - 0s 9ms/step - loss: 1.2743 - accuracy: 0.5670\n",
            "Epoch 44/100\n",
            "20/20 [==============================] - 0s 9ms/step - loss: 1.2720 - accuracy: 0.5767\n",
            "Epoch 45/100\n",
            "20/20 [==============================] - 0s 10ms/step - loss: 1.2780 - accuracy: 0.5848\n",
            "Epoch 46/100\n",
            "20/20 [==============================] - 0s 9ms/step - loss: 1.2409 - accuracy: 0.5929\n",
            "Epoch 47/100\n",
            "20/20 [==============================] - 0s 10ms/step - loss: 1.2685 - accuracy: 0.5897\n",
            "Epoch 48/100\n",
            "20/20 [==============================] - 0s 9ms/step - loss: 1.2465 - accuracy: 0.5897\n",
            "Epoch 49/100\n",
            "20/20 [==============================] - 0s 9ms/step - loss: 1.2379 - accuracy: 0.5961\n",
            "Epoch 50/100\n",
            "20/20 [==============================] - 0s 9ms/step - loss: 1.2220 - accuracy: 0.5929\n",
            "Epoch 51/100\n",
            "20/20 [==============================] - 0s 9ms/step - loss: 1.2234 - accuracy: 0.5784\n",
            "Epoch 52/100\n",
            "20/20 [==============================] - 0s 9ms/step - loss: 1.1768 - accuracy: 0.6074\n",
            "Epoch 53/100\n",
            "20/20 [==============================] - 0s 9ms/step - loss: 1.1591 - accuracy: 0.6107\n",
            "Epoch 54/100\n",
            "20/20 [==============================] - 0s 10ms/step - loss: 1.1290 - accuracy: 0.6397\n",
            "Epoch 55/100\n",
            "20/20 [==============================] - 0s 9ms/step - loss: 1.1454 - accuracy: 0.6381\n",
            "Epoch 56/100\n",
            "20/20 [==============================] - 0s 10ms/step - loss: 1.1462 - accuracy: 0.6123\n",
            "Epoch 57/100\n",
            "20/20 [==============================] - 0s 9ms/step - loss: 1.1060 - accuracy: 0.6268\n",
            "Epoch 58/100\n",
            "20/20 [==============================] - 0s 9ms/step - loss: 1.1258 - accuracy: 0.6010\n",
            "Epoch 59/100\n",
            "20/20 [==============================] - 0s 10ms/step - loss: 1.0654 - accuracy: 0.6365\n",
            "Epoch 60/100\n",
            "20/20 [==============================] - 0s 9ms/step - loss: 1.0351 - accuracy: 0.6737\n",
            "Epoch 61/100\n",
            "20/20 [==============================] - 0s 9ms/step - loss: 1.0213 - accuracy: 0.6672\n",
            "Epoch 62/100\n",
            "20/20 [==============================] - 0s 10ms/step - loss: 0.9862 - accuracy: 0.6575\n",
            "Epoch 63/100\n",
            "20/20 [==============================] - 0s 10ms/step - loss: 1.0494 - accuracy: 0.6478\n",
            "Epoch 64/100\n",
            "20/20 [==============================] - 0s 9ms/step - loss: 1.0332 - accuracy: 0.6640\n",
            "Epoch 65/100\n",
            "20/20 [==============================] - 0s 9ms/step - loss: 1.0337 - accuracy: 0.6511\n",
            "Epoch 66/100\n",
            "20/20 [==============================] - 0s 10ms/step - loss: 0.9997 - accuracy: 0.6769\n",
            "Epoch 67/100\n",
            "20/20 [==============================] - 0s 10ms/step - loss: 0.9805 - accuracy: 0.6737\n",
            "Epoch 68/100\n",
            "20/20 [==============================] - 0s 10ms/step - loss: 0.9544 - accuracy: 0.6753\n",
            "Epoch 69/100\n",
            "20/20 [==============================] - 0s 10ms/step - loss: 0.9477 - accuracy: 0.6817\n",
            "Epoch 70/100\n",
            "20/20 [==============================] - 0s 9ms/step - loss: 0.9409 - accuracy: 0.6721\n",
            "Epoch 71/100\n",
            "20/20 [==============================] - 0s 9ms/step - loss: 0.9383 - accuracy: 0.6947\n",
            "Epoch 72/100\n",
            "20/20 [==============================] - 0s 9ms/step - loss: 0.9369 - accuracy: 0.6963\n",
            "Epoch 73/100\n",
            "20/20 [==============================] - 0s 9ms/step - loss: 0.9407 - accuracy: 0.6914\n",
            "Epoch 74/100\n",
            "20/20 [==============================] - 0s 9ms/step - loss: 0.9051 - accuracy: 0.6947\n",
            "Epoch 75/100\n",
            "20/20 [==============================] - 0s 9ms/step - loss: 0.9436 - accuracy: 0.6850\n",
            "Epoch 76/100\n",
            "20/20 [==============================] - 0s 9ms/step - loss: 0.8595 - accuracy: 0.7060\n",
            "Epoch 77/100\n",
            "20/20 [==============================] - 0s 10ms/step - loss: 0.8540 - accuracy: 0.7221\n",
            "Epoch 78/100\n",
            "20/20 [==============================] - 0s 9ms/step - loss: 0.8665 - accuracy: 0.7205\n",
            "Epoch 79/100\n",
            "20/20 [==============================] - 0s 9ms/step - loss: 0.8673 - accuracy: 0.7092\n",
            "Epoch 80/100\n",
            "20/20 [==============================] - 0s 9ms/step - loss: 0.8332 - accuracy: 0.7141\n",
            "Epoch 81/100\n",
            "20/20 [==============================] - 0s 8ms/step - loss: 0.8317 - accuracy: 0.7124\n",
            "Epoch 82/100\n",
            "20/20 [==============================] - 0s 10ms/step - loss: 0.8267 - accuracy: 0.7286\n",
            "Epoch 83/100\n",
            "20/20 [==============================] - 0s 9ms/step - loss: 0.8636 - accuracy: 0.7124\n",
            "Epoch 84/100\n",
            "20/20 [==============================] - 0s 10ms/step - loss: 0.8230 - accuracy: 0.7237\n",
            "Epoch 85/100\n",
            "20/20 [==============================] - 0s 9ms/step - loss: 0.8016 - accuracy: 0.7205\n",
            "Epoch 86/100\n",
            "20/20 [==============================] - 0s 9ms/step - loss: 0.8250 - accuracy: 0.7173\n",
            "Epoch 87/100\n",
            "20/20 [==============================] - 0s 10ms/step - loss: 0.7500 - accuracy: 0.7512\n",
            "Epoch 88/100\n",
            "20/20 [==============================] - 0s 9ms/step - loss: 0.7678 - accuracy: 0.7302\n",
            "Epoch 89/100\n",
            "20/20 [==============================] - 0s 9ms/step - loss: 0.7458 - accuracy: 0.7431\n",
            "Epoch 90/100\n",
            "20/20 [==============================] - 0s 13ms/step - loss: 0.7518 - accuracy: 0.7415\n",
            "Epoch 91/100\n",
            "20/20 [==============================] - 0s 15ms/step - loss: 0.7459 - accuracy: 0.7431\n",
            "Epoch 92/100\n",
            "20/20 [==============================] - 0s 14ms/step - loss: 0.7612 - accuracy: 0.7318\n",
            "Epoch 93/100\n",
            "20/20 [==============================] - 0s 15ms/step - loss: 0.7924 - accuracy: 0.7334\n",
            "Epoch 94/100\n",
            "20/20 [==============================] - 0s 13ms/step - loss: 0.8139 - accuracy: 0.7480\n",
            "Epoch 95/100\n",
            "20/20 [==============================] - 0s 15ms/step - loss: 0.7731 - accuracy: 0.7221\n",
            "Epoch 96/100\n",
            "20/20 [==============================] - 0s 14ms/step - loss: 0.7283 - accuracy: 0.7544\n",
            "Epoch 97/100\n",
            "20/20 [==============================] - 0s 15ms/step - loss: 0.7612 - accuracy: 0.7334\n",
            "Epoch 98/100\n",
            "20/20 [==============================] - 0s 15ms/step - loss: 0.7379 - accuracy: 0.7431\n",
            "Epoch 99/100\n",
            "20/20 [==============================] - 0s 11ms/step - loss: 0.7011 - accuracy: 0.7270\n",
            "Epoch 100/100\n",
            "20/20 [==============================] - 0s 10ms/step - loss: 0.7140 - accuracy: 0.7334\n"
          ]
        }
      ]
    },
    {
      "cell_type": "code",
      "source": [
        "def buildPhrase(inp_str, str_len = 50):\n",
        "  for i in range(str_len):\n",
        "    x = []\n",
        "    for j in range(i, i+inp_chars):\n",
        "      x.append(tokenizer.texts_to_matrix(inp_str[j])) # преобразуем символы в One-Hot-encoding\n",
        "    x = np.array(x)\n",
        "    inp = x.reshape(1, inp_chars, num_characters)\n",
        "\n",
        "    pred = model.predict( inp ) # предсказываем OHE четвертого символа\n",
        "    d = tokenizer.index_word[pred.argmax(axis=1)[0]] # получаем ответ в символьном представлении\n",
        "\n",
        "    inp_str += d # дописываем строку\n",
        "\n",
        "  return inp_str\n"
      ],
      "metadata": {
        "id": "r1pj9-WCMbEp"
      },
      "execution_count": 42,
      "outputs": []
    },
    {
      "cell_type": "code",
      "source": [
        "res = buildPhrase(\"достиг\")\n",
        "print(res)"
      ],
      "metadata": {
        "colab": {
          "base_uri": "https://localhost:8080/"
        },
        "id": "tawQ1KV0P1PE",
        "outputId": "0eedfcab-3789-4e44-9812-19a940480d94"
      },
      "execution_count": 43,
      "outputs": [
        {
          "output_type": "stream",
          "name": "stdout",
          "text": [
            "1/1 [==============================] - 0s 143ms/step\n",
            "1/1 [==============================] - 0s 20ms/step\n",
            "1/1 [==============================] - 0s 21ms/step\n",
            "1/1 [==============================] - 0s 19ms/step\n",
            "1/1 [==============================] - 0s 19ms/step\n",
            "1/1 [==============================] - 0s 20ms/step\n",
            "1/1 [==============================] - 0s 24ms/step\n",
            "1/1 [==============================] - 0s 19ms/step\n",
            "1/1 [==============================] - 0s 22ms/step\n",
            "1/1 [==============================] - 0s 26ms/step\n",
            "1/1 [==============================] - 0s 23ms/step\n",
            "1/1 [==============================] - 0s 20ms/step\n",
            "1/1 [==============================] - 0s 19ms/step\n",
            "1/1 [==============================] - 0s 20ms/step\n",
            "1/1 [==============================] - 0s 20ms/step\n",
            "1/1 [==============================] - 0s 20ms/step\n",
            "1/1 [==============================] - 0s 21ms/step\n",
            "1/1 [==============================] - 0s 21ms/step\n",
            "1/1 [==============================] - 0s 19ms/step\n",
            "1/1 [==============================] - 0s 24ms/step\n",
            "1/1 [==============================] - 0s 20ms/step\n",
            "1/1 [==============================] - 0s 20ms/step\n",
            "1/1 [==============================] - 0s 19ms/step\n",
            "1/1 [==============================] - 0s 19ms/step\n",
            "1/1 [==============================] - 0s 20ms/step\n",
            "1/1 [==============================] - 0s 19ms/step\n",
            "1/1 [==============================] - 0s 20ms/step\n",
            "1/1 [==============================] - 0s 21ms/step\n",
            "1/1 [==============================] - 0s 35ms/step\n",
            "1/1 [==============================] - 0s 34ms/step\n",
            "1/1 [==============================] - 0s 30ms/step\n",
            "1/1 [==============================] - 0s 34ms/step\n",
            "1/1 [==============================] - 0s 30ms/step\n",
            "1/1 [==============================] - 0s 33ms/step\n",
            "1/1 [==============================] - 0s 27ms/step\n",
            "1/1 [==============================] - 0s 27ms/step\n",
            "1/1 [==============================] - 0s 28ms/step\n",
            "1/1 [==============================] - 0s 32ms/step\n",
            "1/1 [==============================] - 0s 31ms/step\n",
            "1/1 [==============================] - 0s 35ms/step\n",
            "1/1 [==============================] - 0s 28ms/step\n",
            "1/1 [==============================] - 0s 28ms/step\n",
            "1/1 [==============================] - 0s 30ms/step\n",
            "1/1 [==============================] - 0s 33ms/step\n",
            "1/1 [==============================] - 0s 30ms/step\n",
            "1/1 [==============================] - 0s 37ms/step\n",
            "1/1 [==============================] - 0s 32ms/step\n",
            "1/1 [==============================] - 0s 33ms/step\n",
            "1/1 [==============================] - 0s 33ms/step\n",
            "1/1 [==============================] - 0s 31ms/step\n",
            "достигти аа нттиыйе   мндпозуобитароеловньвеы ык в омосб\n"
          ]
        }
      ]
    },
    {
      "cell_type": "markdown",
      "source": [
        "**Слова**"
      ],
      "metadata": {
        "id": "ymsivJeNqBe_"
      }
    },
    {
      "cell_type": "code",
      "source": [
        "with open('train_data.txt', 'r', encoding='utf-8') as f:\n",
        "  texts = f.read()\n",
        "texts = texts.replace('\\ufeff', '') # убираем первый невидимый символ\n",
        "maxWordsCount = 1000\n",
        "tokenizer = Tokenizer(num_words=maxWordsCount, filters='!–\"—#$%&amp;()*+,-./:;<=>?@[\\\\]^_`{|}~\\t\\n\\r«»',\n",
        "lower=True, split=' ', char_level=False)\n",
        "tokenizer.fit_on_texts([texts])\n",
        "dist = list(tokenizer.word_counts.items())\n",
        "print(dist[:10])\n"
      ],
      "metadata": {
        "colab": {
          "base_uri": "https://localhost:8080/"
        },
        "id": "9lDBGW17Vtqe",
        "outputId": "173e3a71-d2c5-4cf0-80d8-51908bf1720b"
      },
      "execution_count": 44,
      "outputs": [
        {
          "output_type": "stream",
          "name": "stdout",
          "text": [
            "[('исследование', 1), ('функций', 1), ('мозга', 3), ('человека', 1), ('и', 5), ('попытки', 1), ('воссоздать', 1), ('его', 1), ('сложные', 1), ('процессы', 1)]\n"
          ]
        }
      ]
    },
    {
      "cell_type": "code",
      "source": [
        "data = tokenizer.texts_to_sequences([texts])\n",
        "res = keras.utils.to_categorical(data[0], num_classes=maxWordsCount)\n",
        "print( res.shape )"
      ],
      "metadata": {
        "colab": {
          "base_uri": "https://localhost:8080/"
        },
        "id": "lsVRyGGCneyS",
        "outputId": "4cddcb0d-6e1a-4891-b10a-42f4af0acf9c"
      },
      "execution_count": 45,
      "outputs": [
        {
          "output_type": "stream",
          "name": "stdout",
          "text": [
            "(84, 1000)\n"
          ]
        }
      ]
    },
    {
      "cell_type": "code",
      "source": [
        "inp_words = 3\n",
        "n = res.shape[0]-inp_words\n",
        "X = np.array([res[i:i+inp_words, :] for i in range(n)])\n",
        "Y = res[inp_words:]\n",
        "model = Sequential()\n",
        "model.add(Input((inp_words, maxWordsCount)))\n",
        "model.add(SimpleRNN(128, activation='tanh'))\n",
        "model.add(Dense(maxWordsCount, activation='softmax'))\n",
        "model.summary()\n",
        "\n",
        "\n"
      ],
      "metadata": {
        "colab": {
          "base_uri": "https://localhost:8080/"
        },
        "id": "zqSUjNcPn3_n",
        "outputId": "f49f6af6-8ad7-4f94-a3c1-f4205d4ec26c"
      },
      "execution_count": 46,
      "outputs": [
        {
          "output_type": "stream",
          "name": "stdout",
          "text": [
            "Model: \"sequential_4\"\n",
            "_________________________________________________________________\n",
            " Layer (type)                Output Shape              Param #   \n",
            "=================================================================\n",
            " simple_rnn_4 (SimpleRNN)    (None, 128)               144512    \n",
            "                                                                 \n",
            " dense_4 (Dense)             (None, 1000)              129000    \n",
            "                                                                 \n",
            "=================================================================\n",
            "Total params: 273512 (1.04 MB)\n",
            "Trainable params: 273512 (1.04 MB)\n",
            "Non-trainable params: 0 (0.00 Byte)\n",
            "_________________________________________________________________\n"
          ]
        }
      ]
    },
    {
      "cell_type": "code",
      "source": [
        "\n",
        "model.compile(loss='categorical_crossentropy', metrics=['accuracy'], optimizer='adam')\n",
        "history = model.fit(X, Y, batch_size=32, epochs=50)\n"
      ],
      "metadata": {
        "colab": {
          "base_uri": "https://localhost:8080/"
        },
        "id": "YGXMZH13oL2a",
        "outputId": "7e3a9329-037a-4262-a510-fb2e1eb369b6"
      },
      "execution_count": 47,
      "outputs": [
        {
          "output_type": "stream",
          "name": "stdout",
          "text": [
            "Epoch 1/50\n",
            "3/3 [==============================] - 1s 9ms/step - loss: 6.9067 - accuracy: 0.0000e+00\n",
            "Epoch 2/50\n",
            "3/3 [==============================] - 0s 9ms/step - loss: 6.8600 - accuracy: 0.0370\n",
            "Epoch 3/50\n",
            "3/3 [==============================] - 0s 11ms/step - loss: 6.8157 - accuracy: 0.2840\n",
            "Epoch 4/50\n",
            "3/3 [==============================] - 0s 9ms/step - loss: 6.7693 - accuracy: 0.6173\n",
            "Epoch 5/50\n",
            "3/3 [==============================] - 0s 9ms/step - loss: 6.7157 - accuracy: 0.8395\n",
            "Epoch 6/50\n",
            "3/3 [==============================] - 0s 9ms/step - loss: 6.6504 - accuracy: 0.9012\n",
            "Epoch 7/50\n",
            "3/3 [==============================] - 0s 9ms/step - loss: 6.5662 - accuracy: 0.8519\n",
            "Epoch 8/50\n",
            "3/3 [==============================] - 0s 9ms/step - loss: 6.4512 - accuracy: 0.7531\n",
            "Epoch 9/50\n",
            "3/3 [==============================] - 0s 9ms/step - loss: 6.2820 - accuracy: 0.5185\n",
            "Epoch 10/50\n",
            "3/3 [==============================] - 0s 11ms/step - loss: 6.0343 - accuracy: 0.2346\n",
            "Epoch 11/50\n",
            "3/3 [==============================] - 0s 8ms/step - loss: 5.6694 - accuracy: 0.0988\n",
            "Epoch 12/50\n",
            "3/3 [==============================] - 0s 9ms/step - loss: 5.1724 - accuracy: 0.0741\n",
            "Epoch 13/50\n",
            "3/3 [==============================] - 0s 8ms/step - loss: 4.6243 - accuracy: 0.0741\n",
            "Epoch 14/50\n",
            "3/3 [==============================] - 0s 9ms/step - loss: 4.2223 - accuracy: 0.0741\n",
            "Epoch 15/50\n",
            "3/3 [==============================] - 0s 10ms/step - loss: 4.0477 - accuracy: 0.0741\n",
            "Epoch 16/50\n",
            "3/3 [==============================] - 0s 10ms/step - loss: 3.9977 - accuracy: 0.0741\n",
            "Epoch 17/50\n",
            "3/3 [==============================] - 0s 10ms/step - loss: 3.9645 - accuracy: 0.0741\n",
            "Epoch 18/50\n",
            "3/3 [==============================] - 0s 12ms/step - loss: 3.9430 - accuracy: 0.0864\n",
            "Epoch 19/50\n",
            "3/3 [==============================] - 0s 9ms/step - loss: 3.9109 - accuracy: 0.1358\n",
            "Epoch 20/50\n",
            "3/3 [==============================] - 0s 10ms/step - loss: 3.8901 - accuracy: 0.0741\n",
            "Epoch 21/50\n",
            "3/3 [==============================] - 0s 11ms/step - loss: 3.8582 - accuracy: 0.0617\n",
            "Epoch 22/50\n",
            "3/3 [==============================] - 0s 9ms/step - loss: 3.8292 - accuracy: 0.1111\n",
            "Epoch 23/50\n",
            "3/3 [==============================] - 0s 9ms/step - loss: 3.7872 - accuracy: 0.1358\n",
            "Epoch 24/50\n",
            "3/3 [==============================] - 0s 11ms/step - loss: 3.7451 - accuracy: 0.1358\n",
            "Epoch 25/50\n",
            "3/3 [==============================] - 0s 10ms/step - loss: 3.6939 - accuracy: 0.1358\n",
            "Epoch 26/50\n",
            "3/3 [==============================] - 0s 9ms/step - loss: 3.6427 - accuracy: 0.1358\n",
            "Epoch 27/50\n",
            "3/3 [==============================] - 0s 9ms/step - loss: 3.5893 - accuracy: 0.1358\n",
            "Epoch 28/50\n",
            "3/3 [==============================] - 0s 9ms/step - loss: 3.5366 - accuracy: 0.1358\n",
            "Epoch 29/50\n",
            "3/3 [==============================] - 0s 9ms/step - loss: 3.4783 - accuracy: 0.1481\n",
            "Epoch 30/50\n",
            "3/3 [==============================] - 0s 9ms/step - loss: 3.4192 - accuracy: 0.1605\n",
            "Epoch 31/50\n",
            "3/3 [==============================] - 0s 9ms/step - loss: 3.3539 - accuracy: 0.1852\n",
            "Epoch 32/50\n",
            "3/3 [==============================] - 0s 9ms/step - loss: 3.2849 - accuracy: 0.1852\n",
            "Epoch 33/50\n",
            "3/3 [==============================] - 0s 9ms/step - loss: 3.2066 - accuracy: 0.2099\n",
            "Epoch 34/50\n",
            "3/3 [==============================] - 0s 9ms/step - loss: 3.1249 - accuracy: 0.2099\n",
            "Epoch 35/50\n",
            "3/3 [==============================] - 0s 12ms/step - loss: 3.0375 - accuracy: 0.2222\n",
            "Epoch 36/50\n",
            "3/3 [==============================] - 0s 10ms/step - loss: 2.9429 - accuracy: 0.2469\n",
            "Epoch 37/50\n",
            "3/3 [==============================] - 0s 9ms/step - loss: 2.8449 - accuracy: 0.3210\n",
            "Epoch 38/50\n",
            "3/3 [==============================] - 0s 10ms/step - loss: 2.7442 - accuracy: 0.4074\n",
            "Epoch 39/50\n",
            "3/3 [==============================] - 0s 9ms/step - loss: 2.6379 - accuracy: 0.4691\n",
            "Epoch 40/50\n",
            "3/3 [==============================] - 0s 11ms/step - loss: 2.5292 - accuracy: 0.5185\n",
            "Epoch 41/50\n",
            "3/3 [==============================] - 0s 9ms/step - loss: 2.4164 - accuracy: 0.6049\n",
            "Epoch 42/50\n",
            "3/3 [==============================] - 0s 9ms/step - loss: 2.3057 - accuracy: 0.6543\n",
            "Epoch 43/50\n",
            "3/3 [==============================] - 0s 9ms/step - loss: 2.1920 - accuracy: 0.7407\n",
            "Epoch 44/50\n",
            "3/3 [==============================] - 0s 9ms/step - loss: 2.0801 - accuracy: 0.7778\n",
            "Epoch 45/50\n",
            "3/3 [==============================] - 0s 9ms/step - loss: 1.9701 - accuracy: 0.7901\n",
            "Epoch 46/50\n",
            "3/3 [==============================] - 0s 9ms/step - loss: 1.8604 - accuracy: 0.8148\n",
            "Epoch 47/50\n",
            "3/3 [==============================] - 0s 9ms/step - loss: 1.7519 - accuracy: 0.8272\n",
            "Epoch 48/50\n",
            "3/3 [==============================] - 0s 9ms/step - loss: 1.6467 - accuracy: 0.8642\n",
            "Epoch 49/50\n",
            "3/3 [==============================] - 0s 10ms/step - loss: 1.5460 - accuracy: 0.8889\n",
            "Epoch 50/50\n",
            "3/3 [==============================] - 0s 13ms/step - loss: 1.4450 - accuracy: 0.9136\n"
          ]
        }
      ]
    },
    {
      "cell_type": "code",
      "source": [
        "def buildPhrase(texts, str_len = 20):\n",
        "  res = texts\n",
        "  data = tokenizer.texts_to_sequences([texts])[0]\n",
        "  for i in range(str_len):\n",
        "      x = to_categorical(data[i: i+inp_words], num_classes=maxWordsCount) # преобразуем в One-Hot-encoding\n",
        "  inp = x.reshape(1, inp_words, maxWordsCount)\n",
        "\n",
        "  pred = model.predict( inp ) # предсказываем OHE четвертого символа\n",
        "  indx = pred.argmax(axis=1)[0]\n",
        "  data.append(indx)\n",
        "\n",
        "  res += \" \" + tokenizer.index_word[indx] # дописываем строку\n",
        "\n",
        "  return res"
      ],
      "metadata": {
        "id": "skVBmv_xpDbO"
      },
      "execution_count": 48,
      "outputs": []
    },
    {
      "cell_type": "code",
      "source": [
        "res = buildPhrase(\"для более глубокого\")\n",
        "print(res)"
      ],
      "metadata": {
        "id": "i8HyFLYvo-F-"
      },
      "execution_count": 51,
      "outputs": []
    },
    {
      "cell_type": "markdown",
      "source": [
        "Разобрался в программе и попробовал на разных текстах. Ошибку в проге по словам так и не нашел.\n",
        "Итого: Увеличение объема текста обучения улучшает немного результат.\n",
        "Хотя в общем то пока всё печально ..."
      ],
      "metadata": {
        "id": "eiolAWuBUfcl"
      }
    },
    {
      "cell_type": "code",
      "source": [],
      "metadata": {
        "id": "jpYcPr48q4-x"
      },
      "execution_count": null,
      "outputs": []
    }
  ]
}